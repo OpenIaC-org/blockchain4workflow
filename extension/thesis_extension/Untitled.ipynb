{
 "cells": [
  {
   "cell_type": "code",
   "execution_count": 4,
   "id": "77d99ac7-ade7-4818-ad89-3d689b619f2f",
   "metadata": {},
   "outputs": [],
   "source": [
    "!touch .x"
   ]
  },
  {
   "cell_type": "code",
   "execution_count": 5,
   "id": "7f8d846f-e371-4b4a-9a58-20aaa07bb8ce",
   "metadata": {},
   "outputs": [
    {
     "name": "stdout",
     "output_type": "stream",
     "text": [
      "total 704\n",
      "drwxrwxrwx 1 ali ali   4096 May  6 21:39 .\n",
      "drwxrwxrwx 1 ali ali   4096 May  4 22:00 ..\n",
      "-rwxrwxrwx 1 ali ali     43 Apr 17 12:16 .eslintignore\n",
      "-rwxrwxrwx 1 ali ali   1026 Apr 17 12:16 .eslintrc.js\n",
      "drwxrwxrwx 1 ali ali   4096 Apr 17 12:16 .github\n",
      "-rwxrwxrwx 1 ali ali   1472 Apr 17 12:16 .gitignore\n",
      "drwxrwxrwx 1 ali ali   4096 Apr 30 22:56 .ipynb_checkpoints\n",
      "-rwxrwxrwx 1 ali ali     69 Apr 17 12:16 .prettierignore\n",
      "-rwxrwxrwx 1 ali ali    102 Apr 17 12:16 .prettierrc\n",
      "-rwxrwxrwx 1 ali ali    260 Apr 17 12:16 .stylelintrc\n",
      "-rwxrwxrwx 1 ali ali      0 May  6 21:39 .x\n",
      "-rwxrwxrwx 1 ali ali     86 Apr 17 12:16 CHANGELOG.md\n",
      "-rwxrwxrwx 1 ali ali   1524 Apr 17 12:16 LICENSE\n",
      "-rwxrwxrwx 1 ali ali    450 Apr 17 12:16 MANIFEST.in\n",
      "-rwxrwxrwx 1 ali ali   3306 Apr 17 12:16 README.md\n",
      "-rwxrwxrwx 1 ali ali   1898 Apr 17 12:16 RELEASE.md\n",
      "-rwxrwxrwx 1 ali ali     72 May  6 21:38 Untitled.ipynb\n",
      "drwxrwxrwx 1 ali ali   4096 Apr 17 12:16 binder\n",
      "drwxrwxrwx 1 ali ali   4096 May  1 23:11 dist\n",
      "-rwxrwxrwx 1 ali ali    193 Apr 17 12:16 install.json\n",
      "drwxrwxrwx 1 ali ali   4096 Apr 17 12:16 jupyter-config\n",
      "drwxrwxrwx 1 ali ali   4096 Apr 30 21:16 lib\n",
      "drwxrwxrwx 1 ali ali   4096 Apr 30 16:05 node_modules\n",
      "-rwxrwxrwx 1 ali ali   3769 Apr 30 18:13 package.json\n",
      "-rwxrwxrwx 1 ali ali    599 Apr 17 12:16 pyproject.toml\n",
      "-rwxrwxrwx 1 ali ali   3193 Apr 17 12:16 setup.py\n",
      "drwxrwxrwx 1 ali ali   4096 Apr 30 20:54 src\n",
      "drwxrwxrwx 1 ali ali   4096 Apr 17 14:09 style\n",
      "drwxrwxrwx 1 ali ali   4096 Apr 17 12:29 thesis_extension\n",
      "drwxrwxrwx 1 ali ali   4096 May  6 17:56 thesis_extension.egg-info\n",
      "-rwxrwxrwx 1 ali ali    570 Apr 30 14:19 tsconfig.json\n",
      "-rwxrwxrwx 1 ali ali 421098 May  6 21:33 tsconfig.tsbuildinfo\n",
      "-rwxrwxrwx 1 ali ali 266927 Apr 30 13:54 yarn.lock\n"
     ]
    }
   ],
   "source": [
    "!ls -la"
   ]
  },
  {
   "cell_type": "code",
   "execution_count": null,
   "id": "e2986cc5-e975-4a6b-89bc-1d58d2cd99b9",
   "metadata": {},
   "outputs": [],
   "source": []
  }
 ],
 "metadata": {
  "kernelspec": {
   "display_name": "Python 3",
   "language": "python",
   "name": "python3"
  },
  "language_info": {
   "codemirror_mode": {
    "name": "ipython",
    "version": 3
   },
   "file_extension": ".py",
   "mimetype": "text/x-python",
   "name": "python",
   "nbconvert_exporter": "python",
   "pygments_lexer": "ipython3",
   "version": "3.10.4"
  }
 },
 "nbformat": 4,
 "nbformat_minor": 5
}
